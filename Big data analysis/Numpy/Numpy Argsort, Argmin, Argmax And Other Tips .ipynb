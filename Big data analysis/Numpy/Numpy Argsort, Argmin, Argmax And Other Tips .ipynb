{
 "cells": [
  {
   "cell_type": "code",
   "execution_count": 1,
   "id": "a3dcdd76",
   "metadata": {},
   "outputs": [],
   "source": [
    "import numpy as np"
   ]
  },
  {
   "cell_type": "code",
   "execution_count": 4,
   "id": "a4f50d96",
   "metadata": {},
   "outputs": [
    {
     "data": {
      "text/plain": [
       "array([0, 1, 2, 3, 4, 5, 6, 7, 8, 9])"
      ]
     },
     "execution_count": 4,
     "metadata": {},
     "output_type": "execute_result"
    }
   ],
   "source": [
    "range_array = np.arange(10) # like range in python\n",
    "range_array"
   ]
  },
  {
   "cell_type": "markdown",
   "id": "534d59e0",
   "metadata": {},
   "source": [
    "# Reshaping array\n",
    "\n",
    "<b>Properly initialise the shape with proper division </b>"
   ]
  },
  {
   "cell_type": "code",
   "execution_count": 9,
   "id": "9506d727",
   "metadata": {},
   "outputs": [
    {
     "data": {
      "text/plain": [
       "array([[0, 1],\n",
       "       [2, 3],\n",
       "       [4, 5],\n",
       "       [6, 7],\n",
       "       [8, 9]])"
      ]
     },
     "execution_count": 9,
     "metadata": {},
     "output_type": "execute_result"
    }
   ],
   "source": [
    "range_array.shape = (5,2) # change the array\n",
    "range_array"
   ]
  },
  {
   "cell_type": "code",
   "execution_count": 23,
   "id": "d2959e69",
   "metadata": {},
   "outputs": [
    {
     "data": {
      "text/plain": [
       "array([[0, 1, 2, 3, 4],\n",
       "       [5, 6, 7, 8, 9]])"
      ]
     },
     "execution_count": 23,
     "metadata": {},
     "output_type": "execute_result"
    }
   ],
   "source": [
    "range_array = range_array.reshape((2,5)) # returns an array\n",
    "range_array"
   ]
  },
  {
   "cell_type": "markdown",
   "id": "718993e7",
   "metadata": {},
   "source": [
    "# Argsort - retrun indices which will sort the array \n",
    "\n",
    "argmin and argmax not return indices\n",
    "\n",
    "# Argmin - first element corresponding to argsort . Min value of the array\n",
    "\n",
    "# Argmax - last element  corresponding to argsort. Max value\n",
    "\n",
    "\n",
    "in all of the cases we can explicitly provide axis. By default it is 1"
   ]
  },
  {
   "cell_type": "code",
   "execution_count": 24,
   "id": "fd55eab3",
   "metadata": {},
   "outputs": [
    {
     "data": {
      "text/plain": [
       "array([[0, 1, 2, 3, 4],\n",
       "       [0, 1, 2, 3, 4]], dtype=int64)"
      ]
     },
     "execution_count": 24,
     "metadata": {},
     "output_type": "execute_result"
    }
   ],
   "source": [
    "np.argsort(range_array) # indices will be returned which will sort the array"
   ]
  },
  {
   "cell_type": "code",
   "execution_count": 21,
   "id": "f991f509",
   "metadata": {},
   "outputs": [
    {
     "data": {
      "text/plain": [
       "0"
      ]
     },
     "execution_count": 21,
     "metadata": {},
     "output_type": "execute_result"
    }
   ],
   "source": [
    "np.argmin(range_array)"
   ]
  },
  {
   "cell_type": "code",
   "execution_count": 22,
   "id": "b0e146f4",
   "metadata": {},
   "outputs": [
    {
     "data": {
      "text/plain": [
       "9"
      ]
     },
     "execution_count": 22,
     "metadata": {},
     "output_type": "execute_result"
    }
   ],
   "source": [
    "np.argmax(range_array)"
   ]
  }
 ],
 "metadata": {
  "kernelspec": {
   "display_name": "Python 3 (ipykernel)",
   "language": "python",
   "name": "python3"
  },
  "language_info": {
   "codemirror_mode": {
    "name": "ipython",
    "version": 3
   },
   "file_extension": ".py",
   "mimetype": "text/x-python",
   "name": "python",
   "nbconvert_exporter": "python",
   "pygments_lexer": "ipython3",
   "version": "3.9.2"
  }
 },
 "nbformat": 4,
 "nbformat_minor": 5
}
