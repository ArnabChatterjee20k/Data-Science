{
 "cells": [
  {
   "cell_type": "code",
   "execution_count": 1,
   "id": "42f5c5b4",
   "metadata": {},
   "outputs": [],
   "source": [
    "import numpy as np"
   ]
  },
  {
   "cell_type": "code",
   "execution_count": 2,
   "id": "b3553e55",
   "metadata": {},
   "outputs": [
    {
     "data": {
      "text/plain": [
       "array([1, 2, 3, 5, 6])"
      ]
     },
     "execution_count": 2,
     "metadata": {},
     "output_type": "execute_result"
    }
   ],
   "source": [
    "# making a numpy array\n",
    "\n",
    "np.array([1,2,3,4,5,6]) # using list\n",
    "\n",
    "np.array((1,2,3,5,6)) # using tuple\n"
   ]
  },
  {
   "cell_type": "markdown",
   "id": "2c8e5360",
   "metadata": {},
   "source": [
    "\n",
    "# Numpy functions\n",
    "<hr>"
   ]
  },
  {
   "cell_type": "code",
   "execution_count": 3,
   "id": "d64ba4c7",
   "metadata": {},
   "outputs": [
    {
     "name": "stdout",
     "output_type": "stream",
     "text": [
      "[[ 1  2  3  4]\n",
      " [22 33 44 55]]\n",
      "<class 'numpy.ndarray'>\n"
     ]
    }
   ],
   "source": [
    "# creating arrays\n",
    "\n",
    "array1 = np.array([[1,2,3,4],[22,33,44,55]])\n",
    "print(array1)\n",
    "print(type(array1))\n"
   ]
  },
  {
   "cell_type": "code",
   "execution_count": 4,
   "id": "7a984c8e",
   "metadata": {},
   "outputs": [
    {
     "data": {
      "text/plain": [
       "(2, 4)"
      ]
     },
     "execution_count": 4,
     "metadata": {},
     "output_type": "execute_result"
    }
   ],
   "source": [
    "# array shapes - rows and column\n",
    "\n",
    "array1.shape"
   ]
  },
  {
   "cell_type": "code",
   "execution_count": 5,
   "id": "d51e4263",
   "metadata": {},
   "outputs": [
    {
     "data": {
      "text/plain": [
       "dtype('int32')"
      ]
     },
     "execution_count": 5,
     "metadata": {},
     "output_type": "execute_result"
    }
   ],
   "source": [
    "# array dtype\n",
    "array1.dtype"
   ]
  },
  {
   "cell_type": "code",
   "execution_count": 6,
   "id": "a23255ad",
   "metadata": {},
   "outputs": [
    {
     "data": {
      "text/plain": [
       "array([[ 1.,  2.,  3.,  4.],\n",
       "       [22., 33., 44., 55.]], dtype=float32)"
      ]
     },
     "execution_count": 6,
     "metadata": {},
     "output_type": "execute_result"
    }
   ],
   "source": [
    "# creating array with dtype\n",
    "np.array([[1,2,3,4],[22,33,44,55]] , dtype=\"float32\" )"
   ]
  },
  {
   "cell_type": "markdown",
   "id": "88160317",
   "metadata": {},
   "source": [
    "# Making blank arrays\n",
    "<hr>"
   ]
  },
  {
   "cell_type": "code",
   "execution_count": 7,
   "id": "9fe14c24",
   "metadata": {},
   "outputs": [
    {
     "name": "stdout",
     "output_type": "stream",
     "text": [
      "[0. 0. 0. 0.]\n",
      "[[0. 0. 0. 0. 0.]\n",
      " [0. 0. 0. 0. 0.]\n",
      " [0. 0. 0. 0. 0.]\n",
      " [0. 0. 0. 0. 0.]]\n"
     ]
    }
   ],
   "source": [
    "# making blank arrays with zeros\n",
    "\n",
    "print(np.zeros(4)) # row 1 and column 4\n",
    "\n",
    "print(np.zeros((4,5))) # providing the rows and columns in a tuple\n"
   ]
  },
  {
   "cell_type": "code",
   "execution_count": 8,
   "id": "4e14ce7c",
   "metadata": {},
   "outputs": [
    {
     "data": {
      "text/plain": [
       "array([[1., 1., 1., 1., 1.]])"
      ]
     },
     "execution_count": 8,
     "metadata": {},
     "output_type": "execute_result"
    }
   ],
   "source": [
    "# making blank arrays with ones\n",
    "np.ones((1,5))"
   ]
  },
  {
   "cell_type": "code",
   "execution_count": 9,
   "id": "edf4fccb",
   "metadata": {},
   "outputs": [
    {
     "data": {
      "text/plain": [
       "array([[0., 0., 0., 0., 0., 0.]])"
      ]
     },
     "execution_count": 9,
     "metadata": {},
     "output_type": "execute_result"
    }
   ],
   "source": [
    "# making array with np.empty() but it is different from the above tow\n",
    "# values can be fairly any value.\n",
    "np.empty((1,6))"
   ]
  },
  {
   "cell_type": "markdown",
   "id": "ab287307",
   "metadata": {},
   "source": [
    "# Arithmetic operation\n",
    "<hr>"
   ]
  },
  {
   "cell_type": "code",
   "execution_count": 10,
   "id": "9f0db537",
   "metadata": {},
   "outputs": [],
   "source": [
    "arr = np.array([[1,2,3],[12,14,15]])"
   ]
  },
  {
   "cell_type": "markdown",
   "id": "1feaee19",
   "metadata": {},
   "source": [
    "### Element wise operation\n",
    "each element will be operated with their corresponding position(row and column number).\n",
    "\n",
    "<b>So array shapes must be same</b>\n",
    "\n",
    "<b>Also element size must be according to the dtype</b>"
   ]
  },
  {
   "cell_type": "code",
   "execution_count": 11,
   "id": "82c077db",
   "metadata": {},
   "outputs": [
    {
     "data": {
      "text/plain": [
       "array([[  1,   4,   9],\n",
       "       [144, 196, 225]])"
      ]
     },
     "execution_count": 11,
     "metadata": {},
     "output_type": "execute_result"
    }
   ],
   "source": [
    "arr*arr"
   ]
  },
  {
   "cell_type": "code",
   "execution_count": 12,
   "id": "66c9fa2c",
   "metadata": {},
   "outputs": [
    {
     "data": {
      "text/plain": [
       "array([[ 2,  4,  6],\n",
       "       [24, 28, 30]])"
      ]
     },
     "execution_count": 12,
     "metadata": {},
     "output_type": "execute_result"
    }
   ],
   "source": [
    "arr+arr"
   ]
  },
  {
   "cell_type": "code",
   "execution_count": 13,
   "id": "76a8bc89",
   "metadata": {},
   "outputs": [
    {
     "data": {
      "text/plain": [
       "array([[1., 1., 1.],\n",
       "       [1., 1., 1.]])"
      ]
     },
     "execution_count": 13,
     "metadata": {},
     "output_type": "execute_result"
    }
   ],
   "source": [
    "arr/arr"
   ]
  },
  {
   "cell_type": "markdown",
   "id": "8840b029",
   "metadata": {},
   "source": [
    "### Operation with scalars"
   ]
  },
  {
   "cell_type": "code",
   "execution_count": 14,
   "id": "4249f193",
   "metadata": {
    "scrolled": true
   },
   "outputs": [
    {
     "data": {
      "text/plain": [
       "array([[1.        , 0.5       , 0.33333333],\n",
       "       [0.08333333, 0.07142857, 0.06666667]])"
      ]
     },
     "execution_count": 14,
     "metadata": {},
     "output_type": "execute_result"
    }
   ],
   "source": [
    "1/arr"
   ]
  },
  {
   "cell_type": "code",
   "execution_count": 15,
   "id": "dd87a768",
   "metadata": {},
   "outputs": [
    {
     "data": {
      "text/plain": [
       "array([[ 2,  4,  6],\n",
       "       [24, 28, 30]])"
      ]
     },
     "execution_count": 15,
     "metadata": {},
     "output_type": "execute_result"
    }
   ],
   "source": [
    "2*arr"
   ]
  },
  {
   "cell_type": "markdown",
   "id": "2b69ad41",
   "metadata": {},
   "source": [
    "# Slicing(nd arrays)\n",
    "<hr>"
   ]
  },
  {
   "cell_type": "markdown",
   "id": "3c0a7ffb",
   "metadata": {},
   "source": [
    "##### Arrays are called rows and elements inside are called columns.\n",
    "In 2d array , we one or multiple arrays inside an array [ [] ].\n",
    "In 3d , arrays inside arrays inside a array. [ [ [] ] ] , [ [ [] ] ]\n",
    "\n",
    "If it is 2d or more then by using commas we can go deep inside an array.\n",
    "\n",
    "For nd arrays we can go n times deep"
   ]
  },
  {
   "cell_type": "code",
   "execution_count": 16,
   "id": "7260617d",
   "metadata": {},
   "outputs": [],
   "source": [
    "array_1d = np.array([1,2,3,4,5,3,6,5,64,2134,12])\n",
    "\n",
    "array_2d = np.array( [ [1,2,3,4,5],[6,7,8,9,0] ] )\n",
    "\n",
    "array_3d = np.array([ [ [1,2,3,4],[5,6,7,8] ] ])"
   ]
  },
  {
   "cell_type": "code",
   "execution_count": 17,
   "id": "748f6f56",
   "metadata": {},
   "outputs": [
    {
     "data": {
      "text/plain": [
       "array([3, 4])"
      ]
     },
     "execution_count": 17,
     "metadata": {},
     "output_type": "execute_result"
    }
   ],
   "source": [
    "array_1d [2:4]"
   ]
  },
  {
   "cell_type": "code",
   "execution_count": 18,
   "id": "e191f72f",
   "metadata": {},
   "outputs": [
    {
     "data": {
      "text/plain": [
       "3"
      ]
     },
     "execution_count": 18,
     "metadata": {},
     "output_type": "execute_result"
    }
   ],
   "source": [
    "array_2d[0,2] # 3rd element or 2nd index element or column in 1st row 0 array or 1st row array"
   ]
  },
  {
   "cell_type": "code",
   "execution_count": 19,
   "id": "03a0006e",
   "metadata": {},
   "outputs": [
    {
     "data": {
      "text/plain": [
       "array([2, 3, 4, 5])"
      ]
     },
     "execution_count": 19,
     "metadata": {},
     "output_type": "execute_result"
    }
   ],
   "source": [
    "array_2d[0 , 1:] # from 1st index to last in 0th index array"
   ]
  },
  {
   "cell_type": "code",
   "execution_count": 20,
   "id": "8108ee69",
   "metadata": {},
   "outputs": [
    {
     "data": {
      "text/plain": [
       "array([1, 6])"
      ]
     },
     "execution_count": 20,
     "metadata": {},
     "output_type": "execute_result"
    }
   ],
   "source": [
    "array_2d[: , 0] # printing 1st columns of all the rows. or \n",
    "                # printing 1st element of all the arrays"
   ]
  },
  {
   "cell_type": "code",
   "execution_count": 21,
   "id": "043892b2",
   "metadata": {},
   "outputs": [
    {
     "data": {
      "text/plain": [
       "array([[[1, 2, 3],\n",
       "        [5, 6, 7]]])"
      ]
     },
     "execution_count": 21,
     "metadata": {},
     "output_type": "execute_result"
    }
   ],
   "source": [
    "array_3d[: , : , :3] # print 3 elements of all the arrays present inside all of the arrays"
   ]
  }
 ],
 "metadata": {
  "kernelspec": {
   "display_name": "Python 3 (ipykernel)",
   "language": "python",
   "name": "python3"
  },
  "language_info": {
   "codemirror_mode": {
    "name": "ipython",
    "version": 3
   },
   "file_extension": ".py",
   "mimetype": "text/x-python",
   "name": "python",
   "nbconvert_exporter": "python",
   "pygments_lexer": "ipython3",
   "version": "3.9.2"
  }
 },
 "nbformat": 4,
 "nbformat_minor": 5
}
