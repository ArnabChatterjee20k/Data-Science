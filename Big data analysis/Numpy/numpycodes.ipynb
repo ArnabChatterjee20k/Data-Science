{
 "cells": [
  {
   "cell_type": "code",
   "execution_count": 26,
   "id": "c0061e7e",
   "metadata": {},
   "outputs": [],
   "source": [
    "import numpy as np"
   ]
  },
  {
   "cell_type": "markdown",
   "id": "e056246e",
   "metadata": {},
   "source": [
    "# Basics\n",
    "                "
   ]
  },
  {
   "cell_type": "code",
   "execution_count": 27,
   "id": "ba34b8ad",
   "metadata": {},
   "outputs": [
    {
     "name": "stdout",
     "output_type": "stream",
     "text": [
      "[1 2 3]\n"
     ]
    }
   ],
   "source": [
    "a=np.array([1,2,3],dtype=\"int16\")#by default dtype is int32\n",
    "print(a)"
   ]
  },
  {
   "cell_type": "code",
   "execution_count": 28,
   "id": "070bef79",
   "metadata": {},
   "outputs": [
    {
     "name": "stdout",
     "output_type": "stream",
     "text": [
      "[[1 2 3]\n",
      " [2 2 3]]\n"
     ]
    }
   ],
   "source": [
    "b=np.array([[1,2,3],[2,2,3]])#2d array\n",
    "print(b)"
   ]
  },
  {
   "cell_type": "code",
   "execution_count": 29,
   "id": "286a3679",
   "metadata": {},
   "outputs": [
    {
     "name": "stdout",
     "output_type": "stream",
     "text": [
      "1\n",
      "2\n"
     ]
    }
   ],
   "source": [
    "### getting dimensions\n",
    "print(a.ndim)\n",
    "print(b.ndim)\n"
   ]
  },
  {
   "cell_type": "code",
   "execution_count": 30,
   "id": "d873b8ba",
   "metadata": {},
   "outputs": [
    {
     "name": "stdout",
     "output_type": "stream",
     "text": [
      "(3,)\n",
      "(2, 3)\n"
     ]
    }
   ],
   "source": [
    "## getting shape\n",
    "print(a.shape)\n",
    "print(b.shape)"
   ]
  },
  {
   "cell_type": "code",
   "execution_count": 31,
   "id": "156df193",
   "metadata": {},
   "outputs": [
    {
     "data": {
      "text/plain": [
       "dtype('int16')"
      ]
     },
     "execution_count": 31,
     "metadata": {},
     "output_type": "execute_result"
    }
   ],
   "source": [
    "#get dtype\n",
    "a.dtype\n"
   ]
  },
  {
   "cell_type": "code",
   "execution_count": 32,
   "id": "eaba20eb",
   "metadata": {},
   "outputs": [
    {
     "name": "stdout",
     "output_type": "stream",
     "text": [
      "2\n",
      "4\n"
     ]
    }
   ],
   "source": [
    "#get itemsize\n",
    "print(a.itemsize)\n",
    "print(b.itemsize)"
   ]
  },
  {
   "cell_type": "markdown",
   "id": "4a619332",
   "metadata": {},
   "source": [
    "In a dtype is int16 so 16/8 is 2\n",
    "In b dtype is int32 so 32/8 is 4\n",
    "\n"
   ]
  },
  {
   "cell_type": "code",
   "execution_count": 33,
   "id": "faf6194e",
   "metadata": {},
   "outputs": [
    {
     "name": "stdout",
     "output_type": "stream",
     "text": [
      "6\n",
      "6\n"
     ]
    }
   ],
   "source": [
    "#get total size\n",
    "print(a.size*a.itemsize)\n",
    "print(a.nbytes)"
   ]
  },
  {
   "cell_type": "markdown",
   "id": "dfa2eec8",
   "metadata": {},
   "source": [
    "#  Accessing/Changing Specific Elements, Rows, Columns, etc (slicing)"
   ]
  },
  {
   "cell_type": "code",
   "execution_count": 34,
   "id": "31184c3e",
   "metadata": {},
   "outputs": [],
   "source": [
    "# a=np.array([[1,2,3,4,5,6,7],[8,9,10,11,12,13,1111111]],dtype=\"int18\")\n",
    "## above will give eerors."
   ]
  },
  {
   "cell_type": "code",
   "execution_count": 35,
   "id": "40210302",
   "metadata": {},
   "outputs": [],
   "source": [
    "## array must have same order elements\n",
    "#(here,7.& must be present in both the list)"
   ]
  },
  {
   "cell_type": "code",
   "execution_count": 36,
   "id": "d6bd3e3a",
   "metadata": {},
   "outputs": [
    {
     "name": "stdout",
     "output_type": "stream",
     "text": [
      "[[ 1  2  3  4  5  6  7]\n",
      " [ 8  9 10 11 12 13 14]]\n",
      "(2, 7)\n"
     ]
    }
   ],
   "source": [
    "a=np.array([[1,2,3,4,5,6,7],[8,9,10,11,12,13,14]])\n",
    "print(a)\n",
    "print(a.shape)"
   ]
  },
  {
   "cell_type": "code",
   "execution_count": 37,
   "id": "ab76b762",
   "metadata": {},
   "outputs": [
    {
     "data": {
      "text/plain": [
       "10"
      ]
     },
     "execution_count": 37,
     "metadata": {},
     "output_type": "execute_result"
    }
   ],
   "source": [
    "#Getting a specific element= [row,column]\n",
    "a[1,2]"
   ]
  },
  {
   "cell_type": "code",
   "execution_count": 38,
   "id": "f4fd0541",
   "metadata": {},
   "outputs": [
    {
     "data": {
      "text/plain": [
       "array([1, 2, 3, 4, 5, 6, 7])"
      ]
     },
     "execution_count": 38,
     "metadata": {},
     "output_type": "execute_result"
    }
   ],
   "source": [
    "#getting a specific row\n",
    "a[0,:] ### 0 means 1st row and : means all columns"
   ]
  },
  {
   "cell_type": "code",
   "execution_count": 39,
   "id": "206b69e7",
   "metadata": {},
   "outputs": [
    {
     "data": {
      "text/plain": [
       "array([ 3, 10])"
      ]
     },
     "execution_count": 39,
     "metadata": {},
     "output_type": "execute_result"
    }
   ],
   "source": [
    "#getting a specific  columns\n",
    "a[:,2] ## all rows and 3rd column"
   ]
  },
  {
   "cell_type": "code",
   "execution_count": 40,
   "id": "d205ab70",
   "metadata": {},
   "outputs": [
    {
     "data": {
      "text/plain": [
       "array([2, 4, 6])"
      ]
     },
     "execution_count": 40,
     "metadata": {},
     "output_type": "execute_result"
    }
   ],
   "source": [
    "# Getting a little more fancy [startindex:endindex:stepsize]\n",
    "\n",
    "a[0,1:7:2]#elements of index 1 to 6(7-1=6; since 7 is excluded) of first row"
   ]
  },
  {
   "cell_type": "code",
   "execution_count": 41,
   "id": "ea08a8bc",
   "metadata": {},
   "outputs": [
    {
     "name": "stdout",
     "output_type": "stream",
     "text": [
      "[[ 1  2 17  4  5  6  7]\n",
      " [ 8  9 17 11 12 13 14]]\n"
     ]
    }
   ],
   "source": [
    "## changing the elements\n",
    "# a[1,5]=33\n",
    "# print(a)\n",
    "\n",
    "a[:,2]=17 #replacing elements of 2nd index from all rows\n",
    "print(a)\n"
   ]
  },
  {
   "cell_type": "code",
   "execution_count": 42,
   "id": "29d4ce02",
   "metadata": {},
   "outputs": [
    {
     "name": "stdout",
     "output_type": "stream",
     "text": [
      "[[ 1  2 22  4  5  6  7]\n",
      " [ 8  9 20 11 12 13 14]]\n"
     ]
    }
   ],
   "source": [
    "a[:,2]=[22,20] #replacing elements of 2nd index by 2 elements from all rows\n",
    "print(a)"
   ]
  },
  {
   "cell_type": "markdown",
   "id": "c3fbe69d",
   "metadata": {},
   "source": [
    "# 3d array\n"
   ]
  },
  {
   "cell_type": "code",
   "execution_count": 43,
   "id": "a5ea938a",
   "metadata": {},
   "outputs": [
    {
     "name": "stdout",
     "output_type": "stream",
     "text": [
      "[[[ 1  2  3]\n",
      "  [ 4  5  6]]\n",
      "\n",
      " [[ 7  8  9]\n",
      "  [10 11 12]]]\n"
     ]
    }
   ],
   "source": [
    "# b=np.array([[[1,2,3],[4,5,6]],[[7,8,9],[10,11,12]]])\n",
    "\n",
    "b=np.array([\n",
    "    [[1,2,3], # 1st array 1st row\n",
    "     [4,5,6]],\n",
    "    \n",
    "    [[7,8,9],  # 2nd array 1st row\n",
    "     [10,11,12]]\n",
    "])\n",
    "print(b)\n"
   ]
  },
  {
   "cell_type": "code",
   "execution_count": 44,
   "id": "92a22cc2",
   "metadata": {},
   "outputs": [
    {
     "name": "stdout",
     "output_type": "stream",
     "text": [
      "6\n"
     ]
    }
   ],
   "source": [
    "##get specific element(work outside in)\n",
    "print(b[0,1,2])\n",
    "\n",
    "# 1st array----2nd row-----3rd element\n"
   ]
  },
  {
   "cell_type": "code",
   "execution_count": 45,
   "id": "3bd70856",
   "metadata": {},
   "outputs": [
    {
     "data": {
      "text/plain": [
       "array([[ 4,  5,  6],\n",
       "       [10, 11, 12]])"
      ]
     },
     "execution_count": 45,
     "metadata": {},
     "output_type": "execute_result"
    }
   ],
   "source": [
    "b[:,1,:]#All arrays---2nd row---all elements"
   ]
  },
  {
   "cell_type": "code",
   "execution_count": 46,
   "id": "989c4bee",
   "metadata": {},
   "outputs": [
    {
     "data": {
      "text/plain": [
       "array([7, 8])"
      ]
     },
     "execution_count": 46,
     "metadata": {},
     "output_type": "execute_result"
    }
   ],
   "source": [
    "b[1,0,:2]#2nd array---1st row--1st to2nd element"
   ]
  },
  {
   "cell_type": "code",
   "execution_count": 47,
   "id": "ffe5aac5",
   "metadata": {},
   "outputs": [
    {
     "data": {
      "text/plain": [
       "array([[ 7,  8],\n",
       "       [10, 11]])"
      ]
     },
     "execution_count": 47,
     "metadata": {},
     "output_type": "execute_result"
    }
   ],
   "source": [
    "b[1,:,:2]#2nd array---All rows--1st to 2nd element\n",
    "\n"
   ]
  },
  {
   "cell_type": "code",
   "execution_count": 48,
   "id": "ce196d0e",
   "metadata": {},
   "outputs": [
    {
     "data": {
      "text/plain": [
       "array([[[ 1,  2,  3],\n",
       "        [ 4,  5,  6]],\n",
       "\n",
       "       [[10, 21,  9],\n",
       "        [22, 33, 12]]])"
      ]
     },
     "execution_count": 48,
     "metadata": {},
     "output_type": "execute_result"
    }
   ],
   "source": [
    "#replacing elements\n",
    "# the order must be same while replacing.Here we cant insert 3 values \n",
    "# b[1,:,:2]=[[10,21],[22,33]] or \n",
    "b[1,:,:2]=[10,21],[22,33]\n",
    "b"
   ]
  },
  {
   "cell_type": "markdown",
   "id": "c0686dcf",
   "metadata": {},
   "source": [
    "# Initialising differeent types of arrays"
   ]
  },
  {
   "cell_type": "code",
   "execution_count": 49,
   "id": "44cebde7",
   "metadata": {},
   "outputs": [
    {
     "name": "stdout",
     "output_type": "stream",
     "text": [
      "[[0. 0. 0.]\n",
      " [0. 0. 0.]]\n"
     ]
    }
   ],
   "source": [
    "#zeroes \n",
    "print(np.zeros((2,3)))#insert shape and dtype"
   ]
  },
  {
   "cell_type": "markdown",
   "id": "24a75486",
   "metadata": {},
   "source": [
    "##if u want to insert no.of colums then specify the shape in tuple.\n",
    "#Example::\n",
    "np.zeros(2,3)#here error will come\n",
    "\n",
    "TypeError                                 Traceback (most recent call last)\n",
    "<ipython-input-25-bf82489adb72> in <module>\n",
    "      1 ##if u want to insert no.of colums then specify the shape in tuple.\n",
    "      2 #Example::\n",
    "----> 3 np.zeros(2,3)#here error will come\n",
    "\n",
    "TypeError: Cannot interpret '3' as a data type\n"
   ]
  },
  {
   "cell_type": "code",
   "execution_count": 50,
   "id": "207c5295",
   "metadata": {},
   "outputs": [
    {
     "data": {
      "text/plain": [
       "array([[[1., 1., 1., 1.],\n",
       "        [1., 1., 1., 1.]],\n",
       "\n",
       "       [[1., 1., 1., 1.],\n",
       "        [1., 1., 1., 1.]],\n",
       "\n",
       "       [[1., 1., 1., 1.],\n",
       "        [1., 1., 1., 1.]]])"
      ]
     },
     "execution_count": 50,
     "metadata": {},
     "output_type": "execute_result"
    }
   ],
   "source": [
    "#ones \n",
    "##same parameter as zeros\n",
    "np.ones((3,2,4))## 3 means no.of arrays,2 means no.of rows,4means no. of elements or columns"
   ]
  },
  {
   "cell_type": "code",
   "execution_count": 51,
   "id": "32ad02c5",
   "metadata": {},
   "outputs": [
    {
     "data": {
      "text/plain": [
       "array([[5, 5],\n",
       "       [5, 5]])"
      ]
     },
     "execution_count": 51,
     "metadata": {},
     "output_type": "execute_result"
    }
   ],
   "source": [
    "#Any other no.\n",
    "# here parameter is shape, element and dytpe\n",
    "np.full((2,2),5)"
   ]
  },
  {
   "cell_type": "code",
   "execution_count": 52,
   "id": "cea6edbe",
   "metadata": {},
   "outputs": [
    {
     "name": "stdout",
     "output_type": "stream",
     "text": [
      "[[0. 0. 0. 0.]\n",
      " [0. 0. 0. 0.]]\n"
     ]
    },
    {
     "data": {
      "text/plain": [
       "array([[3., 3., 3., 3.],\n",
       "       [3., 3., 3., 3.]])"
      ]
     },
     "execution_count": 52,
     "metadata": {},
     "output_type": "execute_result"
    }
   ],
   "source": [
    "x=np.zeros((2,4))\n",
    "print(x)\n",
    "#Any other no.(full_like)\n",
    "np.full_like(x,3)"
   ]
  },
  {
   "cell_type": "code",
   "execution_count": 53,
   "id": "d6524134",
   "metadata": {},
   "outputs": [
    {
     "data": {
      "text/plain": [
       "array([[5, 5, 5, 5],\n",
       "       [5, 5, 5, 5]])"
      ]
     },
     "execution_count": 53,
     "metadata": {},
     "output_type": "execute_result"
    }
   ],
   "source": [
    "## another way to work with full\n",
    "np.full(x.shape,5)\n"
   ]
  },
  {
   "cell_type": "code",
   "execution_count": 54,
   "id": "9b661044",
   "metadata": {},
   "outputs": [
    {
     "data": {
      "text/plain": [
       "array([[0.63216843, 0.31571938],\n",
       "       [0.77475474, 0.71159744]])"
      ]
     },
     "execution_count": 54,
     "metadata": {},
     "output_type": "execute_result"
    }
   ],
   "source": [
    "## Random decimal numbers\n",
    "np.random.rand(2,2)##directly inserting the shape"
   ]
  },
  {
   "cell_type": "code",
   "execution_count": 55,
   "id": "a6b14e6a",
   "metadata": {
    "scrolled": true
   },
   "outputs": [
    {
     "data": {
      "text/plain": [
       "array([[0.83276759, 0.00672718, 0.86783113, 0.66325864],\n",
       "       [0.34949592, 0.84238922, 0.05731951, 0.06167957]])"
      ]
     },
     "execution_count": 55,
     "metadata": {},
     "output_type": "execute_result"
    }
   ],
   "source": [
    "## using the shape of an array\n",
    "np.random.random_sample(x.shape)"
   ]
  },
  {
   "cell_type": "code",
   "execution_count": 56,
   "id": "0bf7f38f",
   "metadata": {},
   "outputs": [
    {
     "data": {
      "text/plain": [
       "array([[5, 1],\n",
       "       [5, 2],\n",
       "       [5, 5]])"
      ]
     },
     "execution_count": 56,
     "metadata": {},
     "output_type": "execute_result"
    }
   ],
   "source": [
    "#Random integer values\n",
    "np.random.randint(7,size=(3,2))## size is the shape.\n",
    "##We can also pass the x.shape in the size"
   ]
  },
  {
   "cell_type": "code",
   "execution_count": 57,
   "id": "75019e9c",
   "metadata": {},
   "outputs": [
    {
     "data": {
      "text/plain": [
       "array([[5, 5],\n",
       "       [6, 6],\n",
       "       [6, 5]])"
      ]
     },
     "execution_count": 57,
     "metadata": {},
     "output_type": "execute_result"
    }
   ],
   "source": [
    "np.random.randint(5,7,size=(3,2))## 7 is excluded"
   ]
  },
  {
   "cell_type": "code",
   "execution_count": 58,
   "id": "2d512fe9",
   "metadata": {},
   "outputs": [
    {
     "data": {
      "text/plain": [
       "array([[1., 0., 0.],\n",
       "       [0., 1., 0.],\n",
       "       [0., 0., 1.]])"
      ]
     },
     "execution_count": 58,
     "metadata": {},
     "output_type": "execute_result"
    }
   ],
   "source": [
    "np.identity(3)##identity matrix and oviously its an square matrix\n",
    "##parameter is no.of rows.Since  square matrix so row=column"
   ]
  },
  {
   "cell_type": "code",
   "execution_count": 59,
   "id": "bc273ba1",
   "metadata": {},
   "outputs": [
    {
     "name": "stdout",
     "output_type": "stream",
     "text": [
      "[1 1 1 2 2 2 3 3 3]\n"
     ]
    }
   ],
   "source": [
    "#repeating the array\n",
    "#one dimension\n",
    "arr=np.array([1,2,3] )\n",
    "r1=np.repeat(arr,3)##by default axis is 0\n",
    "print(r1)\n"
   ]
  },
  {
   "cell_type": "code",
   "execution_count": 60,
   "id": "68cb5f54",
   "metadata": {},
   "outputs": [
    {
     "name": "stdout",
     "output_type": "stream",
     "text": [
      "Axis(0): [[1 2 3]\n",
      " [1 2 3]\n",
      " [1 2 3]]\n",
      "Axis(1): [[1 1 1 2 2 2 3 3 3]]\n"
     ]
    }
   ],
   "source": [
    "#t2o dimension\n",
    "arr=np.array([[1,2,3]])\n",
    "r1=np.repeat(arr,3,axis=0)\n",
    "r2=np.repeat(arr,3,axis=1)\n",
    "print(\"Axis(0):\",r1)\n",
    "print(\"Axis(1):\",r2)"
   ]
  },
  {
   "cell_type": "markdown",
   "id": "eac9d2b0",
   "metadata": {},
   "source": [
    " Q) print this array(initialising array)\n",
    "\n",
    "    1 1 1 1 1\n",
    "    1 0 0 0 1\n",
    "    1 0 9 0 1\n",
    "    1 0 0 0 1\n",
    "    1 1 1 1 1"
   ]
  },
  {
   "cell_type": "code",
   "execution_count": 61,
   "id": "73b3cb57",
   "metadata": {},
   "outputs": [
    {
     "name": "stdout",
     "output_type": "stream",
     "text": [
      "[[1. 1. 1. 1. 1.]\n",
      " [1. 0. 0. 0. 1.]\n",
      " [1. 0. 9. 0. 1.]\n",
      " [1. 0. 0. 0. 1.]\n",
      " [1. 1. 1. 1. 1.]]\n"
     ]
    }
   ],
   "source": [
    "output=np.ones((5,5))\n",
    "# print(output)\n",
    "\n",
    "zero=np.zeros((3,3))\n",
    "\n",
    "zero[1,1]=9 # 2nd row 2nd column value will be 9\n",
    "# print(zero)\n",
    "\n",
    "output[1:4,1:4]=zero #2nd row to 4th row, replacing elements 2nd column to 4th column with zero array\n",
    "print(output)"
   ]
  },
  {
   "cell_type": "markdown",
   "id": "44765c1e",
   "metadata": {},
   "source": [
    "# Be careful when copying arrays"
   ]
  },
  {
   "cell_type": "code",
   "execution_count": 62,
   "id": "e688f493",
   "metadata": {},
   "outputs": [
    {
     "name": "stdout",
     "output_type": "stream",
     "text": [
      "b: [100   2   3]\n",
      "a: [100   2   3]\n"
     ]
    }
   ],
   "source": [
    "a=np.array([1,2,3])\n",
    "b=a\n",
    "b[0]=100\n",
    "### Here changes will be made both in b as wll as a\n",
    "print(\"b:\",b)\n",
    "print(\"a:\",a) "
   ]
  },
  {
   "cell_type": "markdown",
   "id": "1ef9bef6",
   "metadata": {},
   "source": [
    "##### so use b=a.copy()"
   ]
  },
  {
   "cell_type": "code",
   "execution_count": 63,
   "id": "9244ffb8",
   "metadata": {},
   "outputs": [
    {
     "name": "stdout",
     "output_type": "stream",
     "text": [
      "b: [100   2   3]\n",
      "a: [1 2 3]\n"
     ]
    }
   ],
   "source": [
    "a=np.array([1,2,3])\n",
    "b=a.copy()\n",
    "b[0]=100\n",
    "print(\"b:\",b)\n",
    "print(\"a:\",a) "
   ]
  },
  {
   "cell_type": "markdown",
   "id": "cab7154a",
   "metadata": {},
   "source": [
    "# Mathamatics\n"
   ]
  },
  {
   "cell_type": "code",
   "execution_count": 64,
   "id": "f6b60f50",
   "metadata": {},
   "outputs": [
    {
     "name": "stdout",
     "output_type": "stream",
     "text": [
      "[3 4 5]\n",
      "[-1  0  1]\n",
      "[2 4 6]\n",
      "[0.5 1.  1.5]\n",
      "[3 4 5]\n",
      "[2 3 4]\n",
      "[ 6  9 12]\n",
      "[ 36  81 144]\n",
      "[18.  40.5 72. ]\n"
     ]
    }
   ],
   "source": [
    "a=np.array([1,2,3])\n",
    "print(a+2)\n",
    "print(a-2)\n",
    "print(a*2)\n",
    "print(a/2)\n",
    "\n",
    "a+=2\n",
    "print(a)\n",
    "\n",
    "a-=1\n",
    "print(a)\n",
    "\n",
    "a*=3\n",
    "print(a)\n",
    "\n",
    "\n",
    "a**=2\n",
    "print(a)\n",
    "\n",
    "a=a/2\n",
    "print(a)\n",
    "\n"
   ]
  },
  {
   "cell_type": "code",
   "execution_count": 65,
   "id": "9dd98e54",
   "metadata": {},
   "outputs": [
    {
     "data": {
      "text/plain": [
       "array([-0.75098725,  0.33415118,  0.25382336])"
      ]
     },
     "execution_count": 65,
     "metadata": {},
     "output_type": "execute_result"
    }
   ],
   "source": [
    "#sin\n",
    "np.sin(a)"
   ]
  },
  {
   "cell_type": "markdown",
   "id": "ae91b057",
   "metadata": {},
   "source": [
    "## Linear Algebra\n"
   ]
  },
  {
   "cell_type": "code",
   "execution_count": 66,
   "id": "08dc5e68",
   "metadata": {},
   "outputs": [
    {
     "data": {
      "text/plain": [
       "array([[6., 6.],\n",
       "       [6., 6.]])"
      ]
     },
     "execution_count": 66,
     "metadata": {},
     "output_type": "execute_result"
    }
   ],
   "source": [
    "## multiplication of matrices(row of 1st matrix must be equal to column of second one)\n",
    "a=np.ones((2,3))\n",
    "# print(a)\n",
    "\n",
    "b=np.full((3,2),2)\n",
    "# print(b)\n",
    "\n",
    "###Here a*b will not work as a and b are of different order.\n",
    "\n",
    "np.matmul(a,b)\n"
   ]
  },
  {
   "cell_type": "code",
   "execution_count": 67,
   "id": "48bd312f",
   "metadata": {},
   "outputs": [
    {
     "data": {
      "text/plain": [
       "1.0"
      ]
     },
     "execution_count": 67,
     "metadata": {},
     "output_type": "execute_result"
    }
   ],
   "source": [
    "#Finding determinant\n",
    "\n",
    "c=np.identity(3)\n",
    "np.linalg.det(c)"
   ]
  },
  {
   "cell_type": "markdown",
   "id": "2328df24",
   "metadata": {},
   "source": [
    "Reference docs(scipy.org)\n",
    "\n",
    "#determinants\n",
    "#Trace\n",
    "#Singular vector decomposition\n",
    "#Eigenvalues\n",
    "#Matrix Norm\n",
    "#Inverse\n",
    "#Etc"
   ]
  },
  {
   "cell_type": "markdown",
   "id": "b0930bd4",
   "metadata": {},
   "source": [
    "# Statistics"
   ]
  },
  {
   "cell_type": "code",
   "execution_count": 81,
   "id": "cf7d5f6c",
   "metadata": {},
   "outputs": [
    {
     "data": {
      "text/plain": [
       "array([[ 1, 12, 10],\n",
       "       [ 4,  5,  6]])"
      ]
     },
     "execution_count": 81,
     "metadata": {},
     "output_type": "execute_result"
    }
   ],
   "source": [
    "stats=np.array([[1,12,10],[4,5,6]])\n",
    "stats"
   ]
  },
  {
   "cell_type": "code",
   "execution_count": 78,
   "id": "a72d55e7",
   "metadata": {},
   "outputs": [
    {
     "name": "stdout",
     "output_type": "stream",
     "text": [
      "1\n",
      "12\n"
     ]
    }
   ],
   "source": [
    "print(np.min(stats))\n",
    "print(np.max(stats))"
   ]
  },
  {
   "cell_type": "markdown",
   "id": "c32fe179",
   "metadata": {},
   "source": [
    "Axis 0 means rows wise means downward.\n",
    "Axis 1 means column wise means Sidewiise "
   ]
  },
  {
   "cell_type": "code",
   "execution_count": 80,
   "id": "79487d91",
   "metadata": {},
   "outputs": [
    {
     "name": "stdout",
     "output_type": "stream",
     "text": [
      "[1 5 6]\n",
      "[ 4 12 10]\n"
     ]
    }
   ],
   "source": [
    "print(np.min(stats,axis=0))\n",
    "print(np.max(stats,axis=0))"
   ]
  },
  {
   "cell_type": "markdown",
   "id": "1d6644e7",
   "metadata": {},
   "source": [
    "array([[ 1, 12, 10]\n",
    "      [ 4,  5,  6]])\n",
    "Here if we see along axis 0,then,\n",
    "comparision will be b/w 1st row and 2nd element and the \n",
    "return value is also an array composed of all the minimum \n",
    "values\n",
    "\n",
    "1 and 4 is 1\n",
    "12 and  5 is 5 \n",
    "10 and 6 is 6\n",
    "\n",
    "so the resultant array is [1,5,6]"
   ]
  },
  {
   "cell_type": "code",
   "execution_count": 82,
   "id": "2d16850b",
   "metadata": {},
   "outputs": [
    {
     "name": "stdout",
     "output_type": "stream",
     "text": [
      "[1 4]\n",
      "[12  6]\n"
     ]
    }
   ],
   "source": [
    "print(np.min(stats,axis=1))\n",
    "print(np.max(stats,axis=1))"
   ]
  },
  {
   "cell_type": "markdown",
   "id": "04894bc1",
   "metadata": {},
   "source": [
    "Here in axis=1, the 1st row elements are compared among themselves and 2nd row among themselves.The resultant  array is composed of the elements of the min elements of both the rows\n",
    "\n",
    "1st row: 1 12 and 10=1 \n",
    "2nd row: 4 5 and 6= 4.\n",
    "\n",
    "Resultant array=[1 4]"
   ]
  },
  {
   "cell_type": "markdown",
   "id": "1a17ef76",
   "metadata": {},
   "source": [
    "# Reorganising arrays\n"
   ]
  },
  {
   "cell_type": "code",
   "execution_count": 95,
   "id": "3366c121",
   "metadata": {},
   "outputs": [
    {
     "name": "stdout",
     "output_type": "stream",
     "text": [
      "[[1 2 3]\n",
      " [4 5 6]]\n",
      "\n",
      "(2, 3)\n",
      "\n",
      "[[1]\n",
      " [2]\n",
      " [3]\n",
      " [4]\n",
      " [5]\n",
      " [6]]\n",
      "\n",
      "(6, 1)\n"
     ]
    }
   ],
   "source": [
    "before=np.array([[1,2,3],[4,5,6]])\n",
    "\n",
    "print(before)\n",
    "print()\n",
    "print(before.shape)\n",
    "print()\n",
    "\n",
    "## Reshaping \n",
    "after=before.reshape((6,1))\n",
    "print(after)\n",
    "print()\n",
    "print(after.shape)"
   ]
  },
  {
   "cell_type": "code",
   "execution_count": 99,
   "id": "05aed047",
   "metadata": {},
   "outputs": [
    {
     "data": {
      "text/plain": [
       "array([[1, 2, 3, 4],\n",
       "       [5, 6, 7, 8]])"
      ]
     },
     "execution_count": 99,
     "metadata": {},
     "output_type": "execute_result"
    }
   ],
   "source": [
    "## Vertically stacking vactors or matrices\n",
    "\n",
    "v1=np.array([1,2,3,4])\n",
    "v2=np.array([5,6,7,8])\n",
    "\n",
    "np.vstack([v1,v2])##vertically stacked"
   ]
  },
  {
   "cell_type": "code",
   "execution_count": 101,
   "id": "33875df9",
   "metadata": {},
   "outputs": [
    {
     "data": {
      "text/plain": [
       "array([[ 3,  6,  9, 12]])"
      ]
     },
     "execution_count": 101,
     "metadata": {},
     "output_type": "execute_result"
    }
   ],
   "source": [
    "np.vstack([v1*3])## here scalar multiplication takes place"
   ]
  },
  {
   "cell_type": "code",
   "execution_count": 102,
   "id": "8c88bc8b",
   "metadata": {},
   "outputs": [
    {
     "data": {
      "text/plain": [
       "array([[1, 2, 3, 4],\n",
       "       [1, 2, 3, 4],\n",
       "       [1, 2, 3, 4]])"
      ]
     },
     "execution_count": 102,
     "metadata": {},
     "output_type": "execute_result"
    }
   ],
   "source": [
    "np.vstack([v1]*3)##here repeation of arrays takes  place"
   ]
  },
  {
   "cell_type": "code",
   "execution_count": 110,
   "id": "0f338813",
   "metadata": {},
   "outputs": [
    {
     "data": {
      "text/plain": [
       "array([[1., 1., 0., 0., 0., 0.],\n",
       "       [1., 1., 0., 0., 0., 0.]])"
      ]
     },
     "execution_count": 110,
     "metadata": {},
     "output_type": "execute_result"
    }
   ],
   "source": [
    "## Horizontal stacking vactors or matrices\n",
    "h1=np.ones((2,2))\n",
    "h2=np.zeros((2,4))\n",
    "\n",
    "np.hstack((h1,h2)) #Horizontally stacked"
   ]
  },
  {
   "cell_type": "markdown",
   "id": "33f1fa31",
   "metadata": {},
   "source": [
    "# Miscellaneous\n",
    "\n",
    "\n",
    "Load data  from file"
   ]
  },
  {
   "cell_type": "code",
   "execution_count": 1,
   "id": "ca7d196f",
   "metadata": {},
   "outputs": [
    {
     "ename": "NameError",
     "evalue": "name 'vxcvcx' is not defined",
     "output_type": "error",
     "traceback": [
      "\u001b[1;31m---------------------------------------------------------------------------\u001b[0m",
      "\u001b[1;31mNameError\u001b[0m                                 Traceback (most recent call last)",
      "\u001b[1;32m<ipython-input-1-751d16fd1ab6>\u001b[0m in \u001b[0;36m<module>\u001b[1;34m\u001b[0m\n\u001b[1;32m----> 1\u001b[1;33m \u001b[0mvxcvcx\u001b[0m\u001b[1;33m\u001b[0m\u001b[1;33m\u001b[0m\u001b[0m\n\u001b[0m",
      "\u001b[1;31mNameError\u001b[0m: name 'vxcvcx' is not defined"
     ]
    }
   ],
   "source": []
  },
  {
   "cell_type": "code",
   "execution_count": null,
   "id": "56077f0d",
   "metadata": {},
   "outputs": [],
   "source": []
  }
 ],
 "metadata": {
  "kernelspec": {
   "display_name": "Python 3",
   "language": "python",
   "name": "python3"
  },
  "language_info": {
   "codemirror_mode": {
    "name": "ipython",
    "version": 3
   },
   "file_extension": ".py",
   "mimetype": "text/x-python",
   "name": "python",
   "nbconvert_exporter": "python",
   "pygments_lexer": "ipython3",
   "version": "3.9.2"
  }
 },
 "nbformat": 4,
 "nbformat_minor": 5
}
