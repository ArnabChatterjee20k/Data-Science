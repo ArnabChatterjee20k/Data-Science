{
 "cells": [
  {
   "cell_type": "code",
   "execution_count": 1,
   "id": "ec59f04b",
   "metadata": {},
   "outputs": [],
   "source": [
    "import numpy as np"
   ]
  },
  {
   "cell_type": "code",
   "execution_count": 2,
   "id": "99904614",
   "metadata": {},
   "outputs": [],
   "source": [
    "arr = np.arange(10000) # making array using a range of number(0 to 9999)"
   ]
  },
  {
   "cell_type": "code",
   "execution_count": 3,
   "id": "54c40c1c",
   "metadata": {},
   "outputs": [],
   "source": [
    "pylist = list(range(10000)) # list of same range"
   ]
  },
  {
   "cell_type": "markdown",
   "id": "7f965f0d",
   "metadata": {},
   "source": [
    "Checking time for arr and python list using magic function of jupyter.\n",
    "Numpy always wins"
   ]
  },
  {
   "cell_type": "code",
   "execution_count": 8,
   "id": "84133c4d",
   "metadata": {},
   "outputs": [
    {
     "name": "stdout",
     "output_type": "stream",
     "text": [
      "CPU times: total: 15.6 ms\n",
      "Wall time: 3 ms\n"
     ]
    }
   ],
   "source": [
    "%time for _ in range(10): [item*3 for item in pylist]"
   ]
  },
  {
   "cell_type": "code",
   "execution_count": 18,
   "id": "2573038a",
   "metadata": {},
   "outputs": [
    {
     "name": "stdout",
     "output_type": "stream",
     "text": [
      "CPU times: total: 0 ns\n",
      "Wall time: 0 ns\n"
     ]
    }
   ],
   "source": [
    "%time for _ in range(10) : arr = arr*3"
   ]
  }
 ],
 "metadata": {
  "kernelspec": {
   "display_name": "Python 3 (ipykernel)",
   "language": "python",
   "name": "python3"
  },
  "language_info": {
   "codemirror_mode": {
    "name": "ipython",
    "version": 3
   },
   "file_extension": ".py",
   "mimetype": "text/x-python",
   "name": "python",
   "nbconvert_exporter": "python",
   "pygments_lexer": "ipython3",
   "version": "3.9.2"
  }
 },
 "nbformat": 4,
 "nbformat_minor": 5
}
