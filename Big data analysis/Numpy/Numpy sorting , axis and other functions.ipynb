{
 "cells": [
  {
   "cell_type": "code",
   "execution_count": 1,
   "id": "1ffa01a8",
   "metadata": {},
   "outputs": [],
   "source": [
    "import numpy as np"
   ]
  },
  {
   "cell_type": "markdown",
   "id": "a175af6c",
   "metadata": {},
   "source": [
    "### Getting all functions from numpy"
   ]
  },
  {
   "cell_type": "code",
   "execution_count": 2,
   "id": "03b2220d",
   "metadata": {},
   "outputs": [
    {
     "data": {
      "text/plain": [
       "600"
      ]
     },
     "execution_count": 2,
     "metadata": {},
     "output_type": "execute_result"
    }
   ],
   "source": [
    "dir(np);\n",
    "len(dir(np))"
   ]
  },
  {
   "cell_type": "code",
   "execution_count": 3,
   "id": "42ca1628",
   "metadata": {},
   "outputs": [],
   "source": [
    "ar1 = np.array ([[1,2,3],[4,5,6]])"
   ]
  },
  {
   "cell_type": "markdown",
   "id": "75f58cc9",
   "metadata": {},
   "source": [
    "# Axis\n",
    "### For 2d columnwise(vertically down) = axis 0\n",
    "### rowwise (horizontally) = axis 1"
   ]
  },
  {
   "cell_type": "code",
   "execution_count": 4,
   "id": "01a03325",
   "metadata": {},
   "outputs": [
    {
     "data": {
      "text/plain": [
       "array([ 6, 15])"
      ]
     },
     "execution_count": 4,
     "metadata": {},
     "output_type": "execute_result"
    }
   ],
   "source": [
    "ar1.sum(axis=1) # printing sum row wise(horizontally)"
   ]
  },
  {
   "cell_type": "code",
   "execution_count": 5,
   "id": "2c191b3a",
   "metadata": {},
   "outputs": [
    {
     "data": {
      "text/plain": [
       "array([5, 7, 9])"
      ]
     },
     "execution_count": 5,
     "metadata": {},
     "output_type": "execute_result"
    }
   ],
   "source": [
    "ar1.sum(axis=0) # printing sum column wise (vertically)"
   ]
  },
  {
   "cell_type": "markdown",
   "id": "dd4ce753",
   "metadata": {
    "tags": []
   },
   "source": [
    "# Transpose of any matrix"
   ]
  },
  {
   "cell_type": "code",
   "execution_count": 6,
   "id": "a2e81387",
   "metadata": {},
   "outputs": [
    {
     "data": {
      "text/plain": [
       "array([[1, 4],\n",
       "       [2, 5],\n",
       "       [3, 6]])"
      ]
     },
     "execution_count": 6,
     "metadata": {},
     "output_type": "execute_result"
    }
   ],
   "source": [
    "ar1.transpose()"
   ]
  },
  {
   "cell_type": "markdown",
   "id": "44a0723a",
   "metadata": {},
   "source": [
    "# Dot product\n"
   ]
  },
  {
   "cell_type": "code",
   "execution_count": 7,
   "id": "a55e281a",
   "metadata": {},
   "outputs": [
    {
     "data": {
      "text/plain": [
       "array([[14, 32],\n",
       "       [32, 77]])"
      ]
     },
     "execution_count": 7,
     "metadata": {},
     "output_type": "execute_result"
    }
   ],
   "source": [
    "ar1.dot(ar1.transpose())\n",
    "\n",
    "# or\n",
    "\n",
    "np.dot(ar1 , ar1.transpose()) # better practice"
   ]
  },
  {
   "cell_type": "markdown",
   "id": "43059166",
   "metadata": {},
   "source": [
    "## Cross product"
   ]
  },
  {
   "cell_type": "code",
   "execution_count": 8,
   "id": "d0790095",
   "metadata": {},
   "outputs": [
    {
     "data": {
      "text/plain": [
       "array([[0, 0, 0],\n",
       "       [0, 0, 0]])"
      ]
     },
     "execution_count": 8,
     "metadata": {},
     "output_type": "execute_result"
    }
   ],
   "source": [
    "np.cross(ar1,ar1) # all are 0 since cross product between same vector is always 0"
   ]
  },
  {
   "cell_type": "markdown",
   "id": "54a94b14",
   "metadata": {},
   "source": [
    "# Sorting\n",
    "<hr>"
   ]
  },
  {
   "cell_type": "code",
   "execution_count": 9,
   "id": "0de542a4",
   "metadata": {},
   "outputs": [],
   "source": [
    "array = np.array([[11,1,22,0],[1,21,1,2]])"
   ]
  },
  {
   "cell_type": "markdown",
   "id": "ef69f471",
   "metadata": {},
   "source": [
    "#### ABout\n",
    "sort by default in the axis 1 \n",
    "\n",
    "np.sort(array) -> it returns an array instead of changing the actual one\n",
    "\n",
    "array.sort() # modifies the actual array and dont return anything"
   ]
  },
  {
   "cell_type": "code",
   "execution_count": 10,
   "id": "cc3b12fc",
   "metadata": {},
   "outputs": [
    {
     "data": {
      "text/plain": [
       "array([[ 0,  1, 11, 22],\n",
       "       [ 1,  1,  2, 21]])"
      ]
     },
     "execution_count": 10,
     "metadata": {},
     "output_type": "execute_result"
    }
   ],
   "source": [
    "np.sort(array) # default is axis 1 "
   ]
  },
  {
   "cell_type": "code",
   "execution_count": 11,
   "id": "8c92f885",
   "metadata": {},
   "outputs": [
    {
     "data": {
      "text/plain": [
       "array([[ 1,  1,  1,  0],\n",
       "       [11, 21, 22,  2]])"
      ]
     },
     "execution_count": 11,
     "metadata": {},
     "output_type": "execute_result"
    }
   ],
   "source": [
    "np.sort(array , axis=0) # axis 0 sorting only"
   ]
  },
  {
   "cell_type": "code",
   "execution_count": 12,
   "id": "87f64506",
   "metadata": {},
   "outputs": [
    {
     "data": {
      "text/plain": [
       "array([[ 1,  1,  1,  0],\n",
       "       [11, 21, 22,  2]])"
      ]
     },
     "execution_count": 12,
     "metadata": {},
     "output_type": "execute_result"
    }
   ],
   "source": [
    "# array.sort() # axis 1\n",
    "array.sort(axis=0)\n",
    "array"
   ]
  },
  {
   "cell_type": "markdown",
   "id": "049e51a8",
   "metadata": {},
   "source": [
    "# SORTING WITH A SPECIFIC ALGORITHM\n",
    "time will differ."
   ]
  },
  {
   "cell_type": "code",
   "execution_count": 13,
   "id": "69b76044",
   "metadata": {},
   "outputs": [
    {
     "data": {
      "text/plain": [
       "array([[ 0,  1,  1,  1],\n",
       "       [ 2, 11, 21, 22]])"
      ]
     },
     "execution_count": 13,
     "metadata": {},
     "output_type": "execute_result"
    }
   ],
   "source": [
    "np.sort(array , axis = 1 , kind=\"mergesort\")"
   ]
  },
  {
   "cell_type": "code",
   "execution_count": null,
   "id": "672bd1cc",
   "metadata": {},
   "outputs": [],
   "source": []
  }
 ],
 "metadata": {
  "kernelspec": {
   "display_name": "Python 3 (ipykernel)",
   "language": "python",
   "name": "python3"
  },
  "language_info": {
   "codemirror_mode": {
    "name": "ipython",
    "version": 3
   },
   "file_extension": ".py",
   "mimetype": "text/x-python",
   "name": "python",
   "nbconvert_exporter": "python",
   "pygments_lexer": "ipython3",
   "version": "3.9.2"
  }
 },
 "nbformat": 4,
 "nbformat_minor": 5
}
