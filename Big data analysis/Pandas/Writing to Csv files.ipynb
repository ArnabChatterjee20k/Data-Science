{
 "cells": [
  {
   "cell_type": "code",
   "execution_count": 1,
   "id": "fd063a2a",
   "metadata": {},
   "outputs": [],
   "source": [
    "import pandas as pd"
   ]
  },
  {
   "cell_type": "code",
   "execution_count": 2,
   "id": "531e1b8d",
   "metadata": {},
   "outputs": [],
   "source": [
    "df1 = pd.DataFrame( ( [1,2,2,3,4,5,6,3],[12,12,12,1,4,3,4],[12,12,12,1,4,3,4],[1212,112,1212,11,44,311,12] ) )"
   ]
  },
  {
   "cell_type": "code",
   "execution_count": 6,
   "id": "9e6f2dc8",
   "metadata": {},
   "outputs": [],
   "source": [
    "df1.to_csv(\"custom df.csv\",index=False) # index is ignored to get written"
   ]
  },
  {
   "cell_type": "code",
   "execution_count": 8,
   "id": "fc90e55a",
   "metadata": {},
   "outputs": [],
   "source": [
    "data={\n",
    "    \"name\" : [1,2,3,4],\n",
    "    \"school\" : [1,2,3,4]\n",
    "}\n",
    "\n",
    "pd.DataFrame(data).to_csv(\"custom csv.csv\") # with indexing"
   ]
  },
  {
   "cell_type": "code",
   "execution_count": null,
   "id": "37513c4b",
   "metadata": {},
   "outputs": [],
   "source": []
  }
 ],
 "metadata": {
  "kernelspec": {
   "display_name": "Python 3 (ipykernel)",
   "language": "python",
   "name": "python3"
  },
  "language_info": {
   "codemirror_mode": {
    "name": "ipython",
    "version": 3
   },
   "file_extension": ".py",
   "mimetype": "text/x-python",
   "name": "python",
   "nbconvert_exporter": "python",
   "pygments_lexer": "ipython3",
   "version": "3.9.2"
  }
 },
 "nbformat": 4,
 "nbformat_minor": 5
}
