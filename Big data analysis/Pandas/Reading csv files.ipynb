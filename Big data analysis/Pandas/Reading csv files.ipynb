{
 "cells": [
  {
   "cell_type": "code",
   "execution_count": 1,
   "id": "e0cd89f1",
   "metadata": {},
   "outputs": [],
   "source": [
    "import pandas as pd"
   ]
  },
  {
   "cell_type": "code",
   "execution_count": 8,
   "id": "cbbbd540",
   "metadata": {},
   "outputs": [],
   "source": [
    "df = pd.read_csv(\"data.csv\")."
   ]
  },
  {
   "cell_type": "code",
   "execution_count": 9,
   "id": "7fa93065",
   "metadata": {},
   "outputs": [
    {
     "data": {
      "text/html": [
       "<div>\n",
       "<style scoped>\n",
       "    .dataframe tbody tr th:only-of-type {\n",
       "        vertical-align: middle;\n",
       "    }\n",
       "\n",
       "    .dataframe tbody tr th {\n",
       "        vertical-align: top;\n",
       "    }\n",
       "\n",
       "    .dataframe thead th {\n",
       "        text-align: right;\n",
       "    }\n",
       "</style>\n",
       "<table border=\"1\" class=\"dataframe\">\n",
       "  <thead>\n",
       "    <tr style=\"text-align: right;\">\n",
       "      <th></th>\n",
       "      <th>SYMBOL</th>\n",
       "      <th>SERIES</th>\n",
       "      <th>DATE1</th>\n",
       "      <th>PREV_CLOSE</th>\n",
       "      <th>OPEN_PRICE</th>\n",
       "      <th>HIGH_PRICE</th>\n",
       "      <th>LOW_PRICE</th>\n",
       "      <th>LAST_PRICE</th>\n",
       "      <th>CLOSE_PRICE</th>\n",
       "      <th>AVG_PRICE</th>\n",
       "      <th>TTL_TRD_QNTY</th>\n",
       "      <th>TURNOVER_LACS</th>\n",
       "      <th>NO_OF_TRADES</th>\n",
       "      <th>DELIV_QTY</th>\n",
       "      <th>DELIV_PER</th>\n",
       "    </tr>\n",
       "  </thead>\n",
       "  <tbody>\n",
       "    <tr>\n",
       "      <th>0</th>\n",
       "      <td>20MICRONS</td>\n",
       "      <td>EQ</td>\n",
       "      <td>18-Feb-2022</td>\n",
       "      <td>77.9</td>\n",
       "      <td>77.85</td>\n",
       "      <td>79.55</td>\n",
       "      <td>76.30</td>\n",
       "      <td>77.00</td>\n",
       "      <td>77.20</td>\n",
       "      <td>77.64</td>\n",
       "      <td>122561</td>\n",
       "      <td>95.15</td>\n",
       "      <td>1766</td>\n",
       "      <td>51994</td>\n",
       "      <td>42.42</td>\n",
       "    </tr>\n",
       "    <tr>\n",
       "      <th>1</th>\n",
       "      <td>21STCENMGM</td>\n",
       "      <td>EQ</td>\n",
       "      <td>18-Feb-2022</td>\n",
       "      <td>34.6</td>\n",
       "      <td>33.95</td>\n",
       "      <td>33.95</td>\n",
       "      <td>33.95</td>\n",
       "      <td>33.95</td>\n",
       "      <td>33.95</td>\n",
       "      <td>33.95</td>\n",
       "      <td>3970</td>\n",
       "      <td>1.35</td>\n",
       "      <td>37</td>\n",
       "      <td>3970</td>\n",
       "      <td>100.00</td>\n",
       "    </tr>\n",
       "  </tbody>\n",
       "</table>\n",
       "</div>"
      ],
      "text/plain": [
       "       SYMBOL  SERIES         DATE1   PREV_CLOSE   OPEN_PRICE   HIGH_PRICE  \\\n",
       "0   20MICRONS      EQ   18-Feb-2022         77.9        77.85        79.55   \n",
       "1  21STCENMGM      EQ   18-Feb-2022         34.6        33.95        33.95   \n",
       "\n",
       "    LOW_PRICE   LAST_PRICE   CLOSE_PRICE   AVG_PRICE   TTL_TRD_QNTY  \\\n",
       "0       76.30        77.00         77.20       77.64         122561   \n",
       "1       33.95        33.95         33.95       33.95           3970   \n",
       "\n",
       "    TURNOVER_LACS   NO_OF_TRADES  DELIV_QTY  DELIV_PER  \n",
       "0           95.15           1766      51994      42.42  \n",
       "1            1.35             37       3970     100.00  "
      ]
     },
     "execution_count": 9,
     "metadata": {},
     "output_type": "execute_result"
    }
   ],
   "source": [
    "df.head(2)"
   ]
  },
  {
   "cell_type": "code",
   "execution_count": 14,
   "id": "6834e8c6",
   "metadata": {},
   "outputs": [
    {
     "name": "stdout",
     "output_type": "stream",
     "text": [
      "object\n"
     ]
    }
   ],
   "source": [
    "print(df.get(\"SYMBOL\").dtype) # getting symbols col datatype from dataframe"
   ]
  },
  {
   "cell_type": "code",
   "execution_count": 39,
   "id": "9c2cf6eb",
   "metadata": {},
   "outputs": [],
   "source": [
    "new_df = df.get(\"SYMBOL\").astype(\"category\") # category datatype for reducing size of the dataframe"
   ]
  }
 ],
 "metadata": {
  "kernelspec": {
   "display_name": "Python 3 (ipykernel)",
   "language": "python",
   "name": "python3"
  },
  "language_info": {
   "codemirror_mode": {
    "name": "ipython",
    "version": 3
   },
   "file_extension": ".py",
   "mimetype": "text/x-python",
   "name": "python",
   "nbconvert_exporter": "python",
   "pygments_lexer": "ipython3",
   "version": "3.9.2"
  }
 },
 "nbformat": 4,
 "nbformat_minor": 5
}
