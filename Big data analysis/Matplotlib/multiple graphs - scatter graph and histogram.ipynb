{
 "cells": [
  {
   "cell_type": "code",
   "execution_count": 1,
   "id": "4a93b7eb",
   "metadata": {},
   "outputs": [],
   "source": [
    "from matplotlib import pyplot as plt"
   ]
  },
  {
   "cell_type": "code",
   "execution_count": 13,
   "id": "52e7cfa8",
   "metadata": {},
   "outputs": [
    {
     "data": {
      "image/png": "[encoded data removed]",
      "text/plain": [
       "<Figure size 432x288 with 1 Axes>"
      ]
     },
     "metadata": {
      "needs_background": "light"
     },
     "output_type": "display_data"
    }
   ],
   "source": [
    "x1 = [1,2,3,4,5,6]\n",
    "y1 = [2,3,5,12,1,6]\n",
    "\n",
    "x2 = [1,2,3,4,5,6]\n",
    "y2 = [1,3,31,142,145,600] # while using arrays for histogram values should increase monotonically\n",
    "\n",
    "plt.scatter(x1,y1 , label = \"first\") # scatter\n",
    "\n",
    "plt.hist(x2,y2 , label = \"second\") # histogram\n",
    "\n",
    "plt.legend() # after calling legend only labels will be shown.\n",
    "\n",
    "plt.show()"
   ]
  },
  {
   "cell_type": "code",
   "execution_count": null,
   "id": "f992d9d0",
   "metadata": {},
   "outputs": [],
   "source": []
  }
 ],
 "metadata": {
  "kernelspec": {
   "display_name": "Python 3 (ipykernel)",
   "language": "python",
   "name": "python3"
  },
  "language_info": {
   "codemirror_mode": {
    "name": "ipython",
    "version": 3
   },
   "file_extension": ".py",
   "mimetype": "text/x-python",
   "name": "python",
   "nbconvert_exporter": "python",
   "pygments_lexer": "ipython3",
   "version": "3.9.2"
  }
 },
 "nbformat": 4,
 "nbformat_minor": 5
}
