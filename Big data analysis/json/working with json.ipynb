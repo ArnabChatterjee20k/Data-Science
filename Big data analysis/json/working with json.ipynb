{
 "cells": [
  {
   "cell_type": "code",
   "execution_count": 2,
   "id": "6d23ea9d",
   "metadata": {},
   "outputs": [],
   "source": [
    "import json"
   ]
  },
  {
   "cell_type": "markdown",
   "id": "23df9c0c",
   "metadata": {},
   "source": [
    "# Converting json string to dictionart using loads"
   ]
  },
  {
   "cell_type": "code",
   "execution_count": 19,
   "id": "a55cd2dc",
   "metadata": {},
   "outputs": [],
   "source": [
    "data = '{\"name\":1 , \"school\":2}'"
   ]
  },
  {
   "cell_type": "code",
   "execution_count": 20,
   "id": "45bea1cb",
   "metadata": {},
   "outputs": [
    {
     "data": {
      "text/plain": [
       "'{\"name\":1 , \"school\":2}'"
      ]
     },
     "execution_count": 20,
     "metadata": {},
     "output_type": "execute_result"
    }
   ],
   "source": [
    "data"
   ]
  },
  {
   "cell_type": "code",
   "execution_count": 22,
   "id": "406edb47",
   "metadata": {},
   "outputs": [],
   "source": [
    "# converting into dictionary\n",
    "dictionary_data = json.loads(data)"
   ]
  },
  {
   "cell_type": "code",
   "execution_count": 23,
   "id": "a24fbf64",
   "metadata": {},
   "outputs": [
    {
     "data": {
      "text/plain": [
       "1"
      ]
     },
     "execution_count": 23,
     "metadata": {},
     "output_type": "execute_result"
    }
   ],
   "source": [
    "dictionary_data.get(\"name\")"
   ]
  },
  {
   "cell_type": "markdown",
   "id": "59cccfec",
   "metadata": {},
   "source": [
    "# Loading file object"
   ]
  },
  {
   "cell_type": "code",
   "execution_count": 32,
   "id": "9283ee19",
   "metadata": {},
   "outputs": [],
   "source": [
    "with open(\"work.json\") as file_Object:\n",
    "    filedata = json.load(file_Object)"
   ]
  },
  {
   "cell_type": "code",
   "execution_count": 33,
   "id": "6e0b5282",
   "metadata": {},
   "outputs": [
    {
     "data": {
      "text/plain": [
       "dict"
      ]
     },
     "execution_count": 33,
     "metadata": {},
     "output_type": "execute_result"
    }
   ],
   "source": [
    "type(filedata)"
   ]
  },
  {
   "cell_type": "markdown",
   "id": "9d590768",
   "metadata": {},
   "source": [
    "# Making json strings"
   ]
  },
  {
   "cell_type": "code",
   "execution_count": 40,
   "id": "d11402e5",
   "metadata": {},
   "outputs": [
    {
     "name": "stdout",
     "output_type": "stream",
     "text": [
      "{\"age\": 15, \"name\": \"adfd\"}\n"
     ]
    }
   ],
   "source": [
    "name = {\n",
    "    \"age\":15,\n",
    "    \"name\":\"adfd\"\n",
    "}\n",
    "print(json.dumps(name))"
   ]
  },
  {
   "cell_type": "markdown",
   "id": "91109d1b",
   "metadata": {},
   "source": [
    "# Writing json to file"
   ]
  },
  {
   "cell_type": "code",
   "execution_count": 39,
   "id": "17a87ae0",
   "metadata": {},
   "outputs": [],
   "source": [
    "name = {\n",
    "    \"age\":15,\n",
    "    \"name\":\"adfd\"\n",
    "}\n",
    "with open(\"data1.json\",\"w\") as f:\n",
    "    json.dump(name , f)"
   ]
  },
  {
   "cell_type": "code",
   "execution_count": null,
   "id": "c5dd616f",
   "metadata": {},
   "outputs": [],
   "source": []
  }
 ],
 "metadata": {
  "kernelspec": {
   "display_name": "Python 3 (ipykernel)",
   "language": "python",
   "name": "python3"
  },
  "language_info": {
   "codemirror_mode": {
    "name": "ipython",
    "version": 3
   },
   "file_extension": ".py",
   "mimetype": "text/x-python",
   "name": "python",
   "nbconvert_exporter": "python",
   "pygments_lexer": "ipython3",
   "version": "3.9.2"
  }
 },
 "nbformat": 4,
 "nbformat_minor": 5
}
